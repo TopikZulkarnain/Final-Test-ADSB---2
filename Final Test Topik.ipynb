{
  "nbformat": 4,
  "nbformat_minor": 0,
  "metadata": {
    "colab": {
      "name": "Prudential Insurance.ipynb",
      "provenance": [],
      "collapsed_sections": []
    },
    "kernelspec": {
      "name": "python3",
      "display_name": "Python 3"
    },
    "accelerator": "GPU"
  },
  "cells": [
    {
      "cell_type": "code",
      "metadata": {
        "id": "tNahPPvZr0Ml",
        "colab_type": "code",
        "outputId": "f4d4488f-2930-407c-e5ce-ac5d93f41f0c",
        "colab": {
          "base_uri": "https://localhost:8080/",
          "height": 428
        }
      },
      "source": [
        "!pip install scorecardpy"
      ],
      "execution_count": 0,
      "outputs": [
        {
          "output_type": "stream",
          "text": [
            "Collecting scorecardpy\n",
            "\u001b[?25l  Downloading https://files.pythonhosted.org/packages/b3/fd/be6c15335e537d2360f85823cbb0b1c02cdd2ed9ff52539db78545db7115/scorecardpy-0.1.9.1.1.tar.gz (55kB)\n",
            "\r\u001b[K     |██████                          | 10kB 21.2MB/s eta 0:00:01\r\u001b[K     |███████████▉                    | 20kB 1.7MB/s eta 0:00:01\r\u001b[K     |█████████████████▉              | 30kB 2.5MB/s eta 0:00:01\r\u001b[K     |███████████████████████▊        | 40kB 1.7MB/s eta 0:00:01\r\u001b[K     |█████████████████████████████▋  | 51kB 2.1MB/s eta 0:00:01\r\u001b[K     |████████████████████████████████| 61kB 1.9MB/s \n",
            "\u001b[?25hRequirement already satisfied: numpy in /usr/local/lib/python3.6/dist-packages (from scorecardpy) (1.17.3)\n",
            "Requirement already satisfied: pandas>=0.25.0 in /usr/local/lib/python3.6/dist-packages (from scorecardpy) (0.25.3)\n",
            "Requirement already satisfied: matplotlib in /usr/local/lib/python3.6/dist-packages (from scorecardpy) (3.1.1)\n",
            "Requirement already satisfied: scikit-learn>=0.19.1 in /usr/local/lib/python3.6/dist-packages (from scorecardpy) (0.21.3)\n",
            "Requirement already satisfied: pytz>=2017.2 in /usr/local/lib/python3.6/dist-packages (from pandas>=0.25.0->scorecardpy) (2018.9)\n",
            "Requirement already satisfied: python-dateutil>=2.6.1 in /usr/local/lib/python3.6/dist-packages (from pandas>=0.25.0->scorecardpy) (2.6.1)\n",
            "Requirement already satisfied: cycler>=0.10 in /usr/local/lib/python3.6/dist-packages (from matplotlib->scorecardpy) (0.10.0)\n",
            "Requirement already satisfied: pyparsing!=2.0.4,!=2.1.2,!=2.1.6,>=2.0.1 in /usr/local/lib/python3.6/dist-packages (from matplotlib->scorecardpy) (2.4.2)\n",
            "Requirement already satisfied: kiwisolver>=1.0.1 in /usr/local/lib/python3.6/dist-packages (from matplotlib->scorecardpy) (1.1.0)\n",
            "Requirement already satisfied: scipy>=0.17.0 in /usr/local/lib/python3.6/dist-packages (from scikit-learn>=0.19.1->scorecardpy) (1.3.1)\n",
            "Requirement already satisfied: joblib>=0.11 in /usr/local/lib/python3.6/dist-packages (from scikit-learn>=0.19.1->scorecardpy) (0.14.0)\n",
            "Requirement already satisfied: six>=1.5 in /usr/local/lib/python3.6/dist-packages (from python-dateutil>=2.6.1->pandas>=0.25.0->scorecardpy) (1.12.0)\n",
            "Requirement already satisfied: setuptools in /usr/local/lib/python3.6/dist-packages (from kiwisolver>=1.0.1->matplotlib->scorecardpy) (41.4.0)\n",
            "Building wheels for collected packages: scorecardpy\n",
            "  Building wheel for scorecardpy (setup.py) ... \u001b[?25l\u001b[?25hdone\n",
            "  Created wheel for scorecardpy: filename=scorecardpy-0.1.9.1.1-cp36-none-any.whl size=58169 sha256=17db6118c4dd6833f1c35916085ba168653ba0542fd994c78278210b5af13ad8\n",
            "  Stored in directory: /root/.cache/pip/wheels/8f/4c/98/567ff70984acd88ffae211d8fc209e34b98fb43ff27f09fdd3\n",
            "Successfully built scorecardpy\n",
            "Installing collected packages: scorecardpy\n",
            "Successfully installed scorecardpy-0.1.9.1.1\n"
          ],
          "name": "stdout"
        }
      ]
    },
    {
      "cell_type": "code",
      "metadata": {
        "id": "X2B51P-Ur7rj",
        "colab_type": "code",
        "outputId": "1d4349d9-a66e-4a72-fe12-84f742346432",
        "colab": {
          "base_uri": "https://localhost:8080/",
          "height": 122
        }
      },
      "source": [
        "from google.colab import drive\n",
        "drive.mount('/content/drive')"
      ],
      "execution_count": 0,
      "outputs": [
        {
          "output_type": "stream",
          "text": [
            "Go to this URL in a browser: https://accounts.google.com/o/oauth2/auth?client_id=947318989803-6bn6qk8qdgf4n4g3pfee6491hc0brc4i.apps.googleusercontent.com&redirect_uri=urn%3Aietf%3Awg%3Aoauth%3A2.0%3Aoob&scope=email%20https%3A%2F%2Fwww.googleapis.com%2Fauth%2Fdocs.test%20https%3A%2F%2Fwww.googleapis.com%2Fauth%2Fdrive%20https%3A%2F%2Fwww.googleapis.com%2Fauth%2Fdrive.photos.readonly%20https%3A%2F%2Fwww.googleapis.com%2Fauth%2Fpeopleapi.readonly&response_type=code\n",
            "\n",
            "Enter your authorization code:\n",
            "··········\n",
            "Mounted at /content/drive\n"
          ],
          "name": "stdout"
        }
      ]
    },
    {
      "cell_type": "markdown",
      "metadata": {
        "id": "Ymq3wq5z0AhV",
        "colab_type": "text"
      },
      "source": [
        "# Business Understanding"
      ]
    },
    {
      "cell_type": "code",
      "metadata": {
        "id": "QVXH0u7QtcjE",
        "colab_type": "code",
        "colab": {}
      },
      "source": [
        "import pandas as pd\n",
        "import scorecardpy as sc\n",
        "import numpy as np"
      ],
      "execution_count": 0,
      "outputs": []
    },
    {
      "cell_type": "code",
      "metadata": {
        "id": "U4ACWlZ0v3cq",
        "colab_type": "code",
        "colab": {}
      },
      "source": [
        "df = pd.read_csv('/content/drive/My Drive/train (2).csv')"
      ],
      "execution_count": 0,
      "outputs": []
    },
    {
      "cell_type": "markdown",
      "metadata": {
        "id": "xyyhVULZ0H0l",
        "colab_type": "text"
      },
      "source": [
        "# Data Understanding"
      ]
    },
    {
      "cell_type": "code",
      "metadata": {
        "id": "VFTYPckk3Yn6",
        "colab_type": "code",
        "outputId": "88bad21a-0ec8-4a80-a25f-1765d0249c3a",
        "colab": {
          "base_uri": "https://localhost:8080/",
          "height": 51
        }
      },
      "source": [
        "df.Product_Info_2.unique()"
      ],
      "execution_count": 0,
      "outputs": [
        {
          "output_type": "execute_result",
          "data": {
            "text/plain": [
              "array(['D3', 'A1', 'E1', 'D4', 'D2', 'A8', 'A2', 'D1', 'A7', 'A6', 'A3',\n",
              "       'A5', 'C4', 'C1', 'B2', 'C3', 'C2', 'A4', 'B1'], dtype=object)"
            ]
          },
          "metadata": {
            "tags": []
          },
          "execution_count": 6
        }
      ]
    },
    {
      "cell_type": "markdown",
      "metadata": {
        "id": "mEK9seYI0LDa",
        "colab_type": "text"
      },
      "source": [
        "#Data Preparation"
      ]
    },
    {
      "cell_type": "code",
      "metadata": {
        "id": "KT-7agBvzCm3",
        "colab_type": "code",
        "colab": {}
      },
      "source": [
        "df.Response = pd.Series(np.where(df.Response == 1, 1, 0))"
      ],
      "execution_count": 0,
      "outputs": []
    },
    {
      "cell_type": "code",
      "metadata": {
        "id": "ZdFi1vvR4OQ5",
        "colab_type": "code",
        "outputId": "8abbbac1-1319-4dff-ecb1-fde9037f3a3d",
        "colab": {
          "base_uri": "https://localhost:8080/",
          "height": 68
        }
      },
      "source": [
        "df.Response.value_counts()"
      ],
      "execution_count": 0,
      "outputs": [
        {
          "output_type": "execute_result",
          "data": {
            "text/plain": [
              "0    44181\n",
              "1    15200\n",
              "Name: Response, dtype: int64"
            ]
          },
          "metadata": {
            "tags": []
          },
          "execution_count": 8
        }
      ]
    },
    {
      "cell_type": "code",
      "metadata": {
        "id": "3PXSqaZNt1r2",
        "colab_type": "code",
        "colab": {}
      },
      "source": [
        "medical_keyword_cols=[col for col in df.columns if str(col).startswith(\"Medical_Keyword\")]\n",
        "medical_cols=[col for col in df.columns if str(col).startswith(\"Medical_History\")]\n",
        "product_info_cols =[col for col in df.columns if str(col).startswith(\"Product_Info\")]\n",
        "employment_info_cols=[col for col in df.columns if str(col).startswith(\"Employment_Info\")]\n",
        "insured_info_cols =[col for col in df.columns if str(col).startswith(\"InsuredInfo\")]\n",
        "insured_history_cols=[col for col in df.columns if str(col).startswith(\"Insurance_History\")]\n",
        "family_history_cols =[col for col in df.columns if str(col).startswith(\"Family_Hist\")]\n",
        "\n",
        "df['Total_Medical_Keyword']=df[medical_keyword_cols].sum(axis=1)\n",
        "df['Total_Medical_History']=df[medical_cols].sum(axis=1)\n",
        "df['Total_Product_Info']=df[product_info_cols].sum(axis=1)\n",
        "df['Total_Employment_Info']=df[employment_info_cols].sum(axis=1)\n",
        "df['Total_InsuredInfo']=df[insured_info_cols].sum(axis=1)\n",
        "df['Total_Insurance_History']=df[insured_history_cols].sum(axis=1)\n",
        "df['Total_Family_Hist']=df[family_history_cols].sum(axis=1)"
      ],
      "execution_count": 0,
      "outputs": []
    },
    {
      "cell_type": "code",
      "metadata": {
        "id": "es5-luhC6ass",
        "colab_type": "code",
        "colab": {}
      },
      "source": [
        "kolom_terpilih = [\"Ins_Age\", \"Ht\", \"Wt\", \"BMI\", 'Total_Medical_Keyword', 'Total_Medical_History', 'Total_Product_Info', 'Total_Employment_Info', 'Total_InsuredInfo', 'Total_Insurance_History', 'Total_Family_Hist', \"Response\"]\n",
        "df = df[kolom_terpilih]"
      ],
      "execution_count": 0,
      "outputs": []
    },
    {
      "cell_type": "code",
      "metadata": {
        "id": "q-msxS4zZVF5",
        "colab_type": "code",
        "outputId": "a44f3207-ea99-4972-822b-fd2d593882af",
        "colab": {
          "base_uri": "https://localhost:8080/",
          "height": 34
        }
      },
      "source": [
        "df.shape"
      ],
      "execution_count": 0,
      "outputs": [
        {
          "output_type": "execute_result",
          "data": {
            "text/plain": [
              "(59381, 12)"
            ]
          },
          "metadata": {
            "tags": []
          },
          "execution_count": 11
        }
      ]
    },
    {
      "cell_type": "code",
      "metadata": {
        "id": "ABw6Pq50wqUg",
        "colab_type": "code",
        "outputId": "94e30bb0-9f52-4662-f7c7-9daa02ee6890",
        "colab": {
          "base_uri": "https://localhost:8080/",
          "height": 136
        }
      },
      "source": [
        "# Traditional Credit Scoring Using Logistic Regression\n",
        "\n",
        "# data prepare ------\n",
        "# load germancredit data\n",
        "dat = df#$sc.germancredit()\n",
        "\n",
        "# filter variable via missing rate, iv, identical value rate\n",
        "dt_s = sc.var_filter(dat, y=\"Response\")\n",
        "\n",
        "# breaking dt into train and test\n",
        "train, test = sc.split_df(dt_s, 'Response').values()\n",
        "\n",
        "# woe binning ------\n",
        "bins = sc.woebin(dt_s, y=\"Response\")\n",
        "# sc.woebin_plot(bins)\n",
        "\n",
        "# binning adjustment\n",
        "# # adjust breaks interactively\n",
        "# breaks_adj = sc.woebin_adj(dt_s, \"creditability\", bins) \n",
        "# # or specify breaks manually\n",
        "# breaks_adj = {\n",
        "#     'age.in.years': [26, 35, 40],\n",
        "#     'other.debtors.or.guarantors': [\"none\", \"co-applicant%,%guarantor\"]\n",
        "# }\n",
        "# bins_adj = sc.woebin(dt_s, y=\"creditability\", breaks_list=breaks_adj)\n",
        "\n",
        "# converting train and test into woe values\n",
        "train_woe = sc.woebin_ply(train, bins)\n",
        "test_woe = sc.woebin_ply(test, bins)\n",
        "\n",
        "y_train = train_woe.loc[:,'Response']\n",
        "X_train = train_woe.loc[:,train_woe.columns != 'Response']\n",
        "y_test = test_woe.loc[:,'Response']\n",
        "X_test = test_woe.loc[:,train_woe.columns != 'Response']"
      ],
      "execution_count": 0,
      "outputs": [
        {
          "output_type": "stream",
          "text": [
            "[INFO] filtering variables ...\n",
            "Variable filtering on 59381 rows and 12 columns in 00:00:44 \n",
            "0 variables are removed\n",
            "[INFO] creating woe binning ...\n",
            "Binning on 59381 rows and 12 columns in 00:00:12\n",
            "[INFO] converting into woe values ...\n",
            "[INFO] converting into woe values ...\n"
          ],
          "name": "stdout"
        }
      ]
    },
    {
      "cell_type": "markdown",
      "metadata": {
        "id": "p0w7dOj70OmQ",
        "colab_type": "text"
      },
      "source": [
        "#Modeling"
      ]
    },
    {
      "cell_type": "code",
      "metadata": {
        "id": "9fsQ9RP9YPhZ",
        "colab_type": "code",
        "outputId": "b7eb7a60-3bc1-4440-cadf-a133be3b2396",
        "colab": {
          "base_uri": "https://localhost:8080/",
          "height": 34
        }
      },
      "source": [
        "# logistic regression ------\n",
        "from sklearn.linear_model import LogisticRegression\n",
        "lr = LogisticRegression(penalty='l1', C=3, solver='saga', n_jobs=-1)\n",
        "lr.fit(X_train, y_train)\n",
        "lr.coef_\n",
        "lr.intercept_"
      ],
      "execution_count": 0,
      "outputs": [
        {
          "output_type": "execute_result",
          "data": {
            "text/plain": [
              "array([-1.06659572])"
            ]
          },
          "metadata": {
            "tags": []
          },
          "execution_count": 13
        }
      ]
    },
    {
      "cell_type": "markdown",
      "metadata": {
        "id": "dWnRaC7f0R0L",
        "colab_type": "text"
      },
      "source": [
        "#Evaluation"
      ]
    },
    {
      "cell_type": "code",
      "metadata": {
        "id": "-UPkvtsFYnHd",
        "colab_type": "code",
        "outputId": "a7a56f3f-ba30-4ff9-9b11-77c2e35b2a3c",
        "colab": {
          "base_uri": "https://localhost:8080/",
          "height": 914
        }
      },
      "source": [
        "y_pred=lr.predict(X_test)\n",
        "# predicted proability\n",
        "train_pred = lr.predict_proba(X_train)[:,1]\n",
        "test_pred = lr.predict_proba(X_test)[:,1]\n",
        "\n",
        "# performance ks & roc ------\n",
        "train_perf = sc.perf_eva(y_train, train_pred, title = \"train\")\n",
        "test_perf = sc.perf_eva(y_test, test_pred, title = \"test\")\n",
        "\n",
        "# score ------\n",
        "card = sc.scorecard(bins, lr, X_train.columns)\n",
        "# credit score\n",
        "train_score = sc.scorecard_ply(train, card, print_step=0)\n",
        "test_score = sc.scorecard_ply(test, card, print_step=0)\n",
        "\n",
        "# psi\n",
        "sc.perf_psi(\n",
        "  score = {'train':train_score, 'test':test_score},\n",
        "  label = {'train':y_train, 'test':y_test}\n",
        ")"
      ],
      "execution_count": 0,
      "outputs": [
        {
          "output_type": "stream",
          "text": [
            "/usr/local/lib/python3.6/dist-packages/scorecardpy/perf.py:33: FutureWarning: Sorting because non-concatenation axis is not aligned. A future version\n",
            "of pandas will change to not sort by default.\n",
            "\n",
            "To accept the future behavior, pass 'sort=False'.\n",
            "\n",
            "To retain the current behavior and silence the warning, pass 'sort=True'.\n",
            "\n",
            "  ], ignore_index=True)\n"
          ],
          "name": "stderr"
        },
        {
          "output_type": "display_data",
          "data": {
            "image/png": "[encoded data removed]",
            "text/plain": [
              "<Figure size 432x288 with 2 Axes>"
            ]
          },
          "metadata": {
            "tags": []
          }
        },
        {
          "output_type": "display_data",
          "data": {
            "image/png": "[encoded data removed]",
            "text/plain": [
              "<Figure size 432x288 with 2 Axes>"
            ]
          },
          "metadata": {
            "tags": []
          }
        },
        {
          "output_type": "display_data",
          "data": {
            "image/png": "[encoded data removed]",
            "text/plain": [
              "<Figure size 432x288 with 2 Axes>"
            ]
          },
          "metadata": {
            "tags": []
          }
        },
        {
          "output_type": "execute_result",
          "data": {
            "text/plain": [
              "{'pic': {'score': <Figure size 432x288 with 2 Axes>},\n",
              " 'psi':   variable       PSI\n",
              " 0    score  0.000313}"
            ]
          },
          "metadata": {
            "tags": []
          },
          "execution_count": 23
        }
      ]
    },
    {
      "cell_type": "markdown",
      "metadata": {
        "id": "VrspDIGQ0V7U",
        "colab_type": "text"
      },
      "source": [
        "#Deployment"
      ]
    },
    {
      "cell_type": "code",
      "metadata": {
        "id": "YRvDQ405raN1",
        "colab_type": "code",
        "outputId": "a25b5e2f-f2d0-457c-c599-a30a3e374c63",
        "colab": {
          "base_uri": "https://localhost:8080/",
          "height": 1000
        }
      },
      "source": [
        "a = pd.DataFrame()\n",
        "for i in card:\n",
        "  b = pd.DataFrame(card[i])\n",
        "  a = a.append(b)\n",
        "a"
      ],
      "execution_count": 0,
      "outputs": [
        {
          "output_type": "execute_result",
          "data": {
            "text/html": [
              "<div>\n",
              "<style scoped>\n",
              "    .dataframe tbody tr th:only-of-type {\n",
              "        vertical-align: middle;\n",
              "    }\n",
              "\n",
              "    .dataframe tbody tr th {\n",
              "        vertical-align: top;\n",
              "    }\n",
              "\n",
              "    .dataframe thead th {\n",
              "        text-align: right;\n",
              "    }\n",
              "</style>\n",
              "<table border=\"1\" class=\"dataframe\">\n",
              "  <thead>\n",
              "    <tr style=\"text-align: right;\">\n",
              "      <th></th>\n",
              "      <th>variable</th>\n",
              "      <th>bin</th>\n",
              "      <th>points</th>\n",
              "    </tr>\n",
              "  </thead>\n",
              "  <tbody>\n",
              "    <tr>\n",
              "      <th>0</th>\n",
              "      <td>basepoints</td>\n",
              "      <td>NaN</td>\n",
              "      <td>465.0</td>\n",
              "    </tr>\n",
              "    <tr>\n",
              "      <th>0</th>\n",
              "      <td>Wt</td>\n",
              "      <td>[-inf,0.2)</td>\n",
              "      <td>21.0</td>\n",
              "    </tr>\n",
              "    <tr>\n",
              "      <th>1</th>\n",
              "      <td>Wt</td>\n",
              "      <td>[0.2,0.30000000000000004)</td>\n",
              "      <td>9.0</td>\n",
              "    </tr>\n",
              "    <tr>\n",
              "      <th>2</th>\n",
              "      <td>Wt</td>\n",
              "      <td>[0.30000000000000004,0.4)</td>\n",
              "      <td>-4.0</td>\n",
              "    </tr>\n",
              "    <tr>\n",
              "      <th>3</th>\n",
              "      <td>Wt</td>\n",
              "      <td>[0.4,inf)</td>\n",
              "      <td>-38.0</td>\n",
              "    </tr>\n",
              "    <tr>\n",
              "      <th>4</th>\n",
              "      <td>Total_Employment_Info</td>\n",
              "      <td>[-inf,7.0)</td>\n",
              "      <td>-25.0</td>\n",
              "    </tr>\n",
              "    <tr>\n",
              "      <th>5</th>\n",
              "      <td>Total_Employment_Info</td>\n",
              "      <td>[7.0,8.0)</td>\n",
              "      <td>-6.0</td>\n",
              "    </tr>\n",
              "    <tr>\n",
              "      <th>6</th>\n",
              "      <td>Total_Employment_Info</td>\n",
              "      <td>[8.0,inf)</td>\n",
              "      <td>4.0</td>\n",
              "    </tr>\n",
              "    <tr>\n",
              "      <th>7</th>\n",
              "      <td>Total_Product_Info</td>\n",
              "      <td>[-inf,32.90000000000002)</td>\n",
              "      <td>10.0</td>\n",
              "    </tr>\n",
              "    <tr>\n",
              "      <th>8</th>\n",
              "      <td>Total_Product_Info</td>\n",
              "      <td>[32.90000000000002,33.10000000000002)</td>\n",
              "      <td>-33.0</td>\n",
              "    </tr>\n",
              "    <tr>\n",
              "      <th>9</th>\n",
              "      <td>Total_Product_Info</td>\n",
              "      <td>[33.10000000000002,33.300000000000026)</td>\n",
              "      <td>-3.0</td>\n",
              "    </tr>\n",
              "    <tr>\n",
              "      <th>10</th>\n",
              "      <td>Total_Product_Info</td>\n",
              "      <td>[33.300000000000026,33.60000000000003)</td>\n",
              "      <td>23.0</td>\n",
              "    </tr>\n",
              "    <tr>\n",
              "      <th>11</th>\n",
              "      <td>Total_Product_Info</td>\n",
              "      <td>[33.60000000000003,34.000000000000036)</td>\n",
              "      <td>36.0</td>\n",
              "    </tr>\n",
              "    <tr>\n",
              "      <th>12</th>\n",
              "      <td>Total_Product_Info</td>\n",
              "      <td>[34.000000000000036,inf)</td>\n",
              "      <td>-3.0</td>\n",
              "    </tr>\n",
              "    <tr>\n",
              "      <th>13</th>\n",
              "      <td>Ht</td>\n",
              "      <td>[-inf,0.7)</td>\n",
              "      <td>1.0</td>\n",
              "    </tr>\n",
              "    <tr>\n",
              "      <th>14</th>\n",
              "      <td>Ht</td>\n",
              "      <td>[0.7,0.7999999999999999)</td>\n",
              "      <td>-1.0</td>\n",
              "    </tr>\n",
              "    <tr>\n",
              "      <th>15</th>\n",
              "      <td>Ht</td>\n",
              "      <td>[0.7999999999999999,inf)</td>\n",
              "      <td>-1.0</td>\n",
              "    </tr>\n",
              "    <tr>\n",
              "      <th>16</th>\n",
              "      <td>Total_InsuredInfo</td>\n",
              "      <td>[-inf,15.0)</td>\n",
              "      <td>3.0</td>\n",
              "    </tr>\n",
              "    <tr>\n",
              "      <th>17</th>\n",
              "      <td>Total_InsuredInfo</td>\n",
              "      <td>[15.0,16.0)</td>\n",
              "      <td>-14.0</td>\n",
              "    </tr>\n",
              "    <tr>\n",
              "      <th>18</th>\n",
              "      <td>Total_InsuredInfo</td>\n",
              "      <td>[16.0,18.0)</td>\n",
              "      <td>-2.0</td>\n",
              "    </tr>\n",
              "    <tr>\n",
              "      <th>19</th>\n",
              "      <td>Total_InsuredInfo</td>\n",
              "      <td>[18.0,20.0)</td>\n",
              "      <td>5.0</td>\n",
              "    </tr>\n",
              "    <tr>\n",
              "      <th>20</th>\n",
              "      <td>Total_InsuredInfo</td>\n",
              "      <td>[20.0,inf)</td>\n",
              "      <td>-1.0</td>\n",
              "    </tr>\n",
              "    <tr>\n",
              "      <th>21</th>\n",
              "      <td>Total_Family_Hist</td>\n",
              "      <td>[-inf,3.300000000000002)</td>\n",
              "      <td>-1.0</td>\n",
              "    </tr>\n",
              "    <tr>\n",
              "      <th>22</th>\n",
              "      <td>Total_Family_Hist</td>\n",
              "      <td>[3.300000000000002,3.9000000000000026)</td>\n",
              "      <td>1.0</td>\n",
              "    </tr>\n",
              "    <tr>\n",
              "      <th>23</th>\n",
              "      <td>Total_Family_Hist</td>\n",
              "      <td>[3.9000000000000026,4.000000000000003)</td>\n",
              "      <td>1.0</td>\n",
              "    </tr>\n",
              "    <tr>\n",
              "      <th>24</th>\n",
              "      <td>Total_Family_Hist</td>\n",
              "      <td>[4.000000000000003,inf)</td>\n",
              "      <td>-0.0</td>\n",
              "    </tr>\n",
              "    <tr>\n",
              "      <th>25</th>\n",
              "      <td>Total_Insurance_History</td>\n",
              "      <td>[-inf,11.0)</td>\n",
              "      <td>12.0</td>\n",
              "    </tr>\n",
              "    <tr>\n",
              "      <th>26</th>\n",
              "      <td>Total_Insurance_History</td>\n",
              "      <td>[11.0,12.0)</td>\n",
              "      <td>20.0</td>\n",
              "    </tr>\n",
              "    <tr>\n",
              "      <th>27</th>\n",
              "      <td>Total_Insurance_History</td>\n",
              "      <td>[12.0,14.0)</td>\n",
              "      <td>-2.0</td>\n",
              "    </tr>\n",
              "    <tr>\n",
              "      <th>28</th>\n",
              "      <td>Total_Insurance_History</td>\n",
              "      <td>[14.0,15.0)</td>\n",
              "      <td>34.0</td>\n",
              "    </tr>\n",
              "    <tr>\n",
              "      <th>29</th>\n",
              "      <td>Total_Insurance_History</td>\n",
              "      <td>[15.0,inf)</td>\n",
              "      <td>-13.0</td>\n",
              "    </tr>\n",
              "    <tr>\n",
              "      <th>30</th>\n",
              "      <td>BMI</td>\n",
              "      <td>[-inf,0.4)</td>\n",
              "      <td>11.0</td>\n",
              "    </tr>\n",
              "    <tr>\n",
              "      <th>31</th>\n",
              "      <td>BMI</td>\n",
              "      <td>[0.4,0.5)</td>\n",
              "      <td>3.0</td>\n",
              "    </tr>\n",
              "    <tr>\n",
              "      <th>32</th>\n",
              "      <td>BMI</td>\n",
              "      <td>[0.5,0.6000000000000001)</td>\n",
              "      <td>-3.0</td>\n",
              "    </tr>\n",
              "    <tr>\n",
              "      <th>33</th>\n",
              "      <td>BMI</td>\n",
              "      <td>[0.6000000000000001,inf)</td>\n",
              "      <td>-24.0</td>\n",
              "    </tr>\n",
              "    <tr>\n",
              "      <th>34</th>\n",
              "      <td>Total_Medical_History</td>\n",
              "      <td>[-inf,160.0)</td>\n",
              "      <td>0.0</td>\n",
              "    </tr>\n",
              "    <tr>\n",
              "      <th>35</th>\n",
              "      <td>Total_Medical_History</td>\n",
              "      <td>[160.0,200.0)</td>\n",
              "      <td>-14.0</td>\n",
              "    </tr>\n",
              "    <tr>\n",
              "      <th>36</th>\n",
              "      <td>Total_Medical_History</td>\n",
              "      <td>[200.0,260.0)</td>\n",
              "      <td>9.0</td>\n",
              "    </tr>\n",
              "    <tr>\n",
              "      <th>37</th>\n",
              "      <td>Total_Medical_History</td>\n",
              "      <td>[260.0,560.0)</td>\n",
              "      <td>-2.0</td>\n",
              "    </tr>\n",
              "    <tr>\n",
              "      <th>38</th>\n",
              "      <td>Total_Medical_History</td>\n",
              "      <td>[560.0,inf)</td>\n",
              "      <td>2.0</td>\n",
              "    </tr>\n",
              "    <tr>\n",
              "      <th>39</th>\n",
              "      <td>Ins_Age</td>\n",
              "      <td>[-inf,0.4)</td>\n",
              "      <td>6.0</td>\n",
              "    </tr>\n",
              "    <tr>\n",
              "      <th>40</th>\n",
              "      <td>Ins_Age</td>\n",
              "      <td>[0.4,0.6000000000000001)</td>\n",
              "      <td>-1.0</td>\n",
              "    </tr>\n",
              "    <tr>\n",
              "      <th>41</th>\n",
              "      <td>Ins_Age</td>\n",
              "      <td>[0.6000000000000001,0.7000000000000001)</td>\n",
              "      <td>-6.0</td>\n",
              "    </tr>\n",
              "    <tr>\n",
              "      <th>42</th>\n",
              "      <td>Ins_Age</td>\n",
              "      <td>[0.7000000000000001,inf)</td>\n",
              "      <td>-14.0</td>\n",
              "    </tr>\n",
              "    <tr>\n",
              "      <th>43</th>\n",
              "      <td>Total_Medical_Keyword</td>\n",
              "      <td>[-inf,1.0)</td>\n",
              "      <td>35.0</td>\n",
              "    </tr>\n",
              "    <tr>\n",
              "      <th>44</th>\n",
              "      <td>Total_Medical_Keyword</td>\n",
              "      <td>[1.0,2.0)</td>\n",
              "      <td>4.0</td>\n",
              "    </tr>\n",
              "    <tr>\n",
              "      <th>45</th>\n",
              "      <td>Total_Medical_Keyword</td>\n",
              "      <td>[2.0,4.0)</td>\n",
              "      <td>-25.0</td>\n",
              "    </tr>\n",
              "    <tr>\n",
              "      <th>46</th>\n",
              "      <td>Total_Medical_Keyword</td>\n",
              "      <td>[4.0,inf)</td>\n",
              "      <td>-56.0</td>\n",
              "    </tr>\n",
              "  </tbody>\n",
              "</table>\n",
              "</div>"
            ],
            "text/plain": [
              "                   variable                                      bin  points\n",
              "0                basepoints                                      NaN   465.0\n",
              "0                        Wt                               [-inf,0.2)    21.0\n",
              "1                        Wt                [0.2,0.30000000000000004)     9.0\n",
              "2                        Wt                [0.30000000000000004,0.4)    -4.0\n",
              "3                        Wt                                [0.4,inf)   -38.0\n",
              "4     Total_Employment_Info                               [-inf,7.0)   -25.0\n",
              "5     Total_Employment_Info                                [7.0,8.0)    -6.0\n",
              "6     Total_Employment_Info                                [8.0,inf)     4.0\n",
              "7        Total_Product_Info                 [-inf,32.90000000000002)    10.0\n",
              "8        Total_Product_Info    [32.90000000000002,33.10000000000002)   -33.0\n",
              "9        Total_Product_Info   [33.10000000000002,33.300000000000026)    -3.0\n",
              "10       Total_Product_Info   [33.300000000000026,33.60000000000003)    23.0\n",
              "11       Total_Product_Info   [33.60000000000003,34.000000000000036)    36.0\n",
              "12       Total_Product_Info                 [34.000000000000036,inf)    -3.0\n",
              "13                       Ht                               [-inf,0.7)     1.0\n",
              "14                       Ht                 [0.7,0.7999999999999999)    -1.0\n",
              "15                       Ht                 [0.7999999999999999,inf)    -1.0\n",
              "16        Total_InsuredInfo                              [-inf,15.0)     3.0\n",
              "17        Total_InsuredInfo                              [15.0,16.0)   -14.0\n",
              "18        Total_InsuredInfo                              [16.0,18.0)    -2.0\n",
              "19        Total_InsuredInfo                              [18.0,20.0)     5.0\n",
              "20        Total_InsuredInfo                               [20.0,inf)    -1.0\n",
              "21        Total_Family_Hist                 [-inf,3.300000000000002)    -1.0\n",
              "22        Total_Family_Hist   [3.300000000000002,3.9000000000000026)     1.0\n",
              "23        Total_Family_Hist   [3.9000000000000026,4.000000000000003)     1.0\n",
              "24        Total_Family_Hist                  [4.000000000000003,inf)    -0.0\n",
              "25  Total_Insurance_History                              [-inf,11.0)    12.0\n",
              "26  Total_Insurance_History                              [11.0,12.0)    20.0\n",
              "27  Total_Insurance_History                              [12.0,14.0)    -2.0\n",
              "28  Total_Insurance_History                              [14.0,15.0)    34.0\n",
              "29  Total_Insurance_History                               [15.0,inf)   -13.0\n",
              "30                      BMI                               [-inf,0.4)    11.0\n",
              "31                      BMI                                [0.4,0.5)     3.0\n",
              "32                      BMI                 [0.5,0.6000000000000001)    -3.0\n",
              "33                      BMI                 [0.6000000000000001,inf)   -24.0\n",
              "34    Total_Medical_History                             [-inf,160.0)     0.0\n",
              "35    Total_Medical_History                            [160.0,200.0)   -14.0\n",
              "36    Total_Medical_History                            [200.0,260.0)     9.0\n",
              "37    Total_Medical_History                            [260.0,560.0)    -2.0\n",
              "38    Total_Medical_History                              [560.0,inf)     2.0\n",
              "39                  Ins_Age                               [-inf,0.4)     6.0\n",
              "40                  Ins_Age                 [0.4,0.6000000000000001)    -1.0\n",
              "41                  Ins_Age  [0.6000000000000001,0.7000000000000001)    -6.0\n",
              "42                  Ins_Age                 [0.7000000000000001,inf)   -14.0\n",
              "43    Total_Medical_Keyword                               [-inf,1.0)    35.0\n",
              "44    Total_Medical_Keyword                                [1.0,2.0)     4.0\n",
              "45    Total_Medical_Keyword                                [2.0,4.0)   -25.0\n",
              "46    Total_Medical_Keyword                                [4.0,inf)   -56.0"
            ]
          },
          "metadata": {
            "tags": []
          },
          "execution_count": 24
        }
      ]
    },
    {
      "cell_type": "code",
      "metadata": {
        "id": "y71SACcwz-pF",
        "colab_type": "code",
        "outputId": "a4e11abc-84db-46cb-c2b3-03661b173b96",
        "colab": {
          "base_uri": "https://localhost:8080/",
          "height": 282
        }
      },
      "source": [
        "import seaborn as sns\n",
        "sns.distplot(train_score)"
      ],
      "execution_count": 0,
      "outputs": [
        {
          "output_type": "execute_result",
          "data": {
            "text/plain": [
              "<matplotlib.axes._subplots.AxesSubplot at 0x7fa2d564cf60>"
            ]
          },
          "metadata": {
            "tags": []
          },
          "execution_count": 25
        },
        {
          "output_type": "display_data",
          "data": {
            "image/png": "[encoded data removed]",
            "text/plain": [
              "<Figure size 432x288 with 1 Axes>"
            ]
          },
          "metadata": {
            "tags": []
          }
        }
      ]
    },
    {
      "cell_type": "code",
      "metadata": {
        "id": "YYRROHpXxDQ5",
        "colab_type": "code",
        "outputId": "e11ab9a4-dd74-4cea-8853-50dc279cb359",
        "colab": {
          "base_uri": "https://localhost:8080/",
          "height": 142
        }
      },
      "source": [
        "train_score.quantile([0.25,0.5,0.75])"
      ],
      "execution_count": 0,
      "outputs": [
        {
          "output_type": "execute_result",
          "data": {
            "text/html": [
              "<div>\n",
              "<style scoped>\n",
              "    .dataframe tbody tr th:only-of-type {\n",
              "        vertical-align: middle;\n",
              "    }\n",
              "\n",
              "    .dataframe tbody tr th {\n",
              "        vertical-align: top;\n",
              "    }\n",
              "\n",
              "    .dataframe thead th {\n",
              "        text-align: right;\n",
              "    }\n",
              "</style>\n",
              "<table border=\"1\" class=\"dataframe\">\n",
              "  <thead>\n",
              "    <tr style=\"text-align: right;\">\n",
              "      <th></th>\n",
              "      <th>score</th>\n",
              "    </tr>\n",
              "  </thead>\n",
              "  <tbody>\n",
              "    <tr>\n",
              "      <th>0.25</th>\n",
              "      <td>437.0</td>\n",
              "    </tr>\n",
              "    <tr>\n",
              "      <th>0.50</th>\n",
              "      <td>482.0</td>\n",
              "    </tr>\n",
              "    <tr>\n",
              "      <th>0.75</th>\n",
              "      <td>519.0</td>\n",
              "    </tr>\n",
              "  </tbody>\n",
              "</table>\n",
              "</div>"
            ],
            "text/plain": [
              "      score\n",
              "0.25  437.0\n",
              "0.50  482.0\n",
              "0.75  519.0"
            ]
          },
          "metadata": {
            "tags": []
          },
          "execution_count": 19
        }
      ]
    },
    {
      "cell_type": "code",
      "metadata": {
        "id": "AJfuS3bg_faz",
        "colab_type": "code",
        "outputId": "712419cd-d8d6-4e9d-cc57-bcfd614e5d94",
        "colab": {
          "base_uri": "https://localhost:8080/",
          "height": 51
        }
      },
      "source": [
        "train_score.mean()"
      ],
      "execution_count": 0,
      "outputs": [
        {
          "output_type": "execute_result",
          "data": {
            "text/plain": [
              "score    474.908942\n",
              "dtype: float64"
            ]
          },
          "metadata": {
            "tags": []
          },
          "execution_count": 18
        }
      ]
    },
    {
      "cell_type": "code",
      "metadata": {
        "id": "HERKyPdDAE5p",
        "colab_type": "code",
        "outputId": "38d7d846-08c7-4a8a-bbed-f96a18640916",
        "colab": {
          "base_uri": "https://localhost:8080/",
          "height": 68
        }
      },
      "source": [
        "from sklearn import metrics\n",
        "print(\"Accuracy:\",metrics.accuracy_score(y_test, y_pred))\n",
        "print(\"Precision:\",metrics.precision_score(y_test, y_pred))\n",
        "print(\"Recall:\",metrics.recall_score(y_test, y_pred))"
      ],
      "execution_count": 0,
      "outputs": [
        {
          "output_type": "stream",
          "text": [
            "Accuracy: 0.7540136970921747\n",
            "Precision: 0.5584756898817346\n",
            "Recall: 0.18640350877192982\n"
          ],
          "name": "stdout"
        }
      ]
    },
    {
      "cell_type": "code",
      "metadata": {
        "id": "EdvD8je4BCvZ",
        "colab_type": "code",
        "colab": {}
      },
      "source": [
        ""
      ],
      "execution_count": 0,
      "outputs": []
    }
  ]
}